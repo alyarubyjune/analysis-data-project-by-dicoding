{
  "nbformat": 4,
  "nbformat_minor": 0,
  "metadata": {
    "colab": {
      "provenance": []
    },
    "kernelspec": {
      "name": "python3",
      "display_name": "Python 3"
    },
    "language_info": {
      "name": "python"
    }
  },
  "cells": [
    {
      "cell_type": "markdown",
      "source": [
        "# Proyek Analisis Data: E-Commerce Public Dataset\n",
        "\n",
        "\n",
        "*   Nama: Alya Nabilah\n",
        "*   Email: alyanabilah602@gmail.com\n",
        "*   ID Dicoding: alyarubyjune\n",
        "\n"
      ],
      "metadata": {
        "id": "Y4Hob4pzVd_A"
      }
    },
    {
      "cell_type": "markdown",
      "source": [
        "## Menentukan Pertanyaan Bisnis\n",
        "\n",
        "\n",
        "*   Apa produk yang paling sering dan jarang dibeli?\n",
        "*   Apa produk dengan pendapatan tertinggi? Berapa pendapatan yang didapat?\n",
        "*   Apa kota yang memiliki jumlah customer terbanyak?"
      ],
      "metadata": {
        "id": "y13fWHi9X34A"
      }
    },
    {
      "cell_type": "markdown",
      "source": [
        "## Import Semua Packages/Library yang Digunakan"
      ],
      "metadata": {
        "id": "WlOt8nFwXZxY"
      }
    },
    {
      "cell_type": "code",
      "execution_count": 21,
      "metadata": {
        "id": "zCp7frRPVcby"
      },
      "outputs": [],
      "source": [
        "import numpy as np\n",
        "import pandas as pd\n",
        "import matplotlib.pyplot as plt\n",
        "import seaborn as sns"
      ]
    },
    {
      "cell_type": "markdown",
      "source": [
        "## Data Wrangling"
      ],
      "metadata": {
        "id": "m1e5Tb4gXxji"
      }
    },
    {
      "cell_type": "markdown",
      "source": [
        "### Gathering Data"
      ],
      "metadata": {
        "id": "bEbzn2lqX9Rq"
      }
    },
    {
      "cell_type": "code",
      "source": [
        "order_df = pd.read_csv(\"/content/order_items_dataset.csv\")\n",
        "product_df = pd.read_csv(\"/content/products_dataset.csv\")\n",
        "product_translate_df = pd.read_csv(\"/content/product_category_name_translation.csv\")\n",
        "customer_df = pd.read_csv(\"/content/customers_dataset.csv\")"
      ],
      "metadata": {
        "id": "0C1girP4YFTK"
      },
      "execution_count": 3,
      "outputs": []
    },
    {
      "cell_type": "code",
      "source": [
        "order_df = order_df.drop(columns=['shipping_limit_date',\n",
        "                                  'freight_value'])"
      ],
      "metadata": {
        "id": "ZiHtricYZLKu"
      },
      "execution_count": 4,
      "outputs": []
    },
    {
      "cell_type": "code",
      "source": [
        "product_df = product_df.drop(columns=['product_name_lenght',\n",
        "                                      'product_description_lenght',\n",
        "                                      'product_photos_qty',\n",
        "                                      'product_weight_g',\n",
        "                                      'product_length_cm',\n",
        "                                      'product_height_cm',\n",
        "                                      'product_width_cm'])"
      ],
      "metadata": {
        "id": "BosPCXgXZYd2"
      },
      "execution_count": 5,
      "outputs": []
    },
    {
      "cell_type": "code",
      "source": [
        "merge_id = pd.merge(order_df, product_df, on='product_id', how='left')"
      ],
      "metadata": {
        "id": "aV47w9vkbZd1"
      },
      "execution_count": 6,
      "outputs": []
    },
    {
      "cell_type": "code",
      "source": [
        "sales_df = pd.merge(merge_id, product_translate_df, on='product_category_name', how='left')"
      ],
      "metadata": {
        "id": "TDeLL26rb-yx"
      },
      "execution_count": 7,
      "outputs": []
    },
    {
      "cell_type": "markdown",
      "source": [
        "**Insight:**\n",
        "\n",
        "*   Mendapatkan satu tabel data utuh. Tabel yang terbaru memiliki nama produk dan terjemahan nama produknya dalam bahasa Inggris\n",
        "\n"
      ],
      "metadata": {
        "id": "2pFvPECTcLCQ"
      }
    },
    {
      "cell_type": "markdown",
      "source": [
        "### Assessing Data"
      ],
      "metadata": {
        "id": "W6BuZXMDcnm5"
      }
    },
    {
      "cell_type": "code",
      "source": [
        "sales_df.info()"
      ],
      "metadata": {
        "colab": {
          "base_uri": "https://localhost:8080/"
        },
        "id": "AfrTUdTOdDsJ",
        "outputId": "d502fac7-bbe0-4b90-e7dc-fd6b5fc5150b"
      },
      "execution_count": 8,
      "outputs": [
        {
          "output_type": "stream",
          "name": "stdout",
          "text": [
            "<class 'pandas.core.frame.DataFrame'>\n",
            "RangeIndex: 112650 entries, 0 to 112649\n",
            "Data columns (total 7 columns):\n",
            " #   Column                         Non-Null Count   Dtype  \n",
            "---  ------                         --------------   -----  \n",
            " 0   order_id                       112650 non-null  object \n",
            " 1   order_item_id                  112650 non-null  int64  \n",
            " 2   product_id                     112650 non-null  object \n",
            " 3   seller_id                      112650 non-null  object \n",
            " 4   price                          112650 non-null  float64\n",
            " 5   product_category_name          111047 non-null  object \n",
            " 6   product_category_name_english  111023 non-null  object \n",
            "dtypes: float64(1), int64(1), object(5)\n",
            "memory usage: 6.0+ MB\n"
          ]
        }
      ]
    },
    {
      "cell_type": "code",
      "source": [
        "sales_df.isna().sum()"
      ],
      "metadata": {
        "colab": {
          "base_uri": "https://localhost:8080/",
          "height": 303
        },
        "id": "DXfY3dqGdQQX",
        "outputId": "876c49da-61dd-4664-eaad-89c7608e0b1d"
      },
      "execution_count": 9,
      "outputs": [
        {
          "output_type": "execute_result",
          "data": {
            "text/plain": [
              "order_id                            0\n",
              "order_item_id                       0\n",
              "product_id                          0\n",
              "seller_id                           0\n",
              "price                               0\n",
              "product_category_name            1603\n",
              "product_category_name_english    1627\n",
              "dtype: int64"
            ],
            "text/html": [
              "<div>\n",
              "<style scoped>\n",
              "    .dataframe tbody tr th:only-of-type {\n",
              "        vertical-align: middle;\n",
              "    }\n",
              "\n",
              "    .dataframe tbody tr th {\n",
              "        vertical-align: top;\n",
              "    }\n",
              "\n",
              "    .dataframe thead th {\n",
              "        text-align: right;\n",
              "    }\n",
              "</style>\n",
              "<table border=\"1\" class=\"dataframe\">\n",
              "  <thead>\n",
              "    <tr style=\"text-align: right;\">\n",
              "      <th></th>\n",
              "      <th>0</th>\n",
              "    </tr>\n",
              "  </thead>\n",
              "  <tbody>\n",
              "    <tr>\n",
              "      <th>order_id</th>\n",
              "      <td>0</td>\n",
              "    </tr>\n",
              "    <tr>\n",
              "      <th>order_item_id</th>\n",
              "      <td>0</td>\n",
              "    </tr>\n",
              "    <tr>\n",
              "      <th>product_id</th>\n",
              "      <td>0</td>\n",
              "    </tr>\n",
              "    <tr>\n",
              "      <th>seller_id</th>\n",
              "      <td>0</td>\n",
              "    </tr>\n",
              "    <tr>\n",
              "      <th>price</th>\n",
              "      <td>0</td>\n",
              "    </tr>\n",
              "    <tr>\n",
              "      <th>product_category_name</th>\n",
              "      <td>1603</td>\n",
              "    </tr>\n",
              "    <tr>\n",
              "      <th>product_category_name_english</th>\n",
              "      <td>1627</td>\n",
              "    </tr>\n",
              "  </tbody>\n",
              "</table>\n",
              "</div><br><label><b>dtype:</b> int64</label>"
            ]
          },
          "metadata": {},
          "execution_count": 9
        }
      ]
    },
    {
      "cell_type": "code",
      "source": [
        "sales_df.duplicated().sum()"
      ],
      "metadata": {
        "colab": {
          "base_uri": "https://localhost:8080/"
        },
        "id": "JvOLiSqPdbA6",
        "outputId": "fed987b6-5437-4938-9bf4-3ea8f29e9c64"
      },
      "execution_count": 10,
      "outputs": [
        {
          "output_type": "execute_result",
          "data": {
            "text/plain": [
              "0"
            ]
          },
          "metadata": {},
          "execution_count": 10
        }
      ]
    },
    {
      "cell_type": "code",
      "source": [
        "sales_df.describe()"
      ],
      "metadata": {
        "colab": {
          "base_uri": "https://localhost:8080/",
          "height": 300
        },
        "id": "vIABQxdcfYM4",
        "outputId": "1e2d7f2f-efac-478c-ad96-1d6abe723bd1"
      },
      "execution_count": 11,
      "outputs": [
        {
          "output_type": "execute_result",
          "data": {
            "text/plain": [
              "       order_item_id          price\n",
              "count  112650.000000  112650.000000\n",
              "mean        1.197834     120.653739\n",
              "std         0.705124     183.633928\n",
              "min         1.000000       0.850000\n",
              "25%         1.000000      39.900000\n",
              "50%         1.000000      74.990000\n",
              "75%         1.000000     134.900000\n",
              "max        21.000000    6735.000000"
            ],
            "text/html": [
              "\n",
              "  <div id=\"df-a32deb1f-8b07-4d76-a20a-d39f29b29f1e\" class=\"colab-df-container\">\n",
              "    <div>\n",
              "<style scoped>\n",
              "    .dataframe tbody tr th:only-of-type {\n",
              "        vertical-align: middle;\n",
              "    }\n",
              "\n",
              "    .dataframe tbody tr th {\n",
              "        vertical-align: top;\n",
              "    }\n",
              "\n",
              "    .dataframe thead th {\n",
              "        text-align: right;\n",
              "    }\n",
              "</style>\n",
              "<table border=\"1\" class=\"dataframe\">\n",
              "  <thead>\n",
              "    <tr style=\"text-align: right;\">\n",
              "      <th></th>\n",
              "      <th>order_item_id</th>\n",
              "      <th>price</th>\n",
              "    </tr>\n",
              "  </thead>\n",
              "  <tbody>\n",
              "    <tr>\n",
              "      <th>count</th>\n",
              "      <td>112650.000000</td>\n",
              "      <td>112650.000000</td>\n",
              "    </tr>\n",
              "    <tr>\n",
              "      <th>mean</th>\n",
              "      <td>1.197834</td>\n",
              "      <td>120.653739</td>\n",
              "    </tr>\n",
              "    <tr>\n",
              "      <th>std</th>\n",
              "      <td>0.705124</td>\n",
              "      <td>183.633928</td>\n",
              "    </tr>\n",
              "    <tr>\n",
              "      <th>min</th>\n",
              "      <td>1.000000</td>\n",
              "      <td>0.850000</td>\n",
              "    </tr>\n",
              "    <tr>\n",
              "      <th>25%</th>\n",
              "      <td>1.000000</td>\n",
              "      <td>39.900000</td>\n",
              "    </tr>\n",
              "    <tr>\n",
              "      <th>50%</th>\n",
              "      <td>1.000000</td>\n",
              "      <td>74.990000</td>\n",
              "    </tr>\n",
              "    <tr>\n",
              "      <th>75%</th>\n",
              "      <td>1.000000</td>\n",
              "      <td>134.900000</td>\n",
              "    </tr>\n",
              "    <tr>\n",
              "      <th>max</th>\n",
              "      <td>21.000000</td>\n",
              "      <td>6735.000000</td>\n",
              "    </tr>\n",
              "  </tbody>\n",
              "</table>\n",
              "</div>\n",
              "    <div class=\"colab-df-buttons\">\n",
              "\n",
              "  <div class=\"colab-df-container\">\n",
              "    <button class=\"colab-df-convert\" onclick=\"convertToInteractive('df-a32deb1f-8b07-4d76-a20a-d39f29b29f1e')\"\n",
              "            title=\"Convert this dataframe to an interactive table.\"\n",
              "            style=\"display:none;\">\n",
              "\n",
              "  <svg xmlns=\"http://www.w3.org/2000/svg\" height=\"24px\" viewBox=\"0 -960 960 960\">\n",
              "    <path d=\"M120-120v-720h720v720H120Zm60-500h600v-160H180v160Zm220 220h160v-160H400v160Zm0 220h160v-160H400v160ZM180-400h160v-160H180v160Zm440 0h160v-160H620v160ZM180-180h160v-160H180v160Zm440 0h160v-160H620v160Z\"/>\n",
              "  </svg>\n",
              "    </button>\n",
              "\n",
              "  <style>\n",
              "    .colab-df-container {\n",
              "      display:flex;\n",
              "      gap: 12px;\n",
              "    }\n",
              "\n",
              "    .colab-df-convert {\n",
              "      background-color: #E8F0FE;\n",
              "      border: none;\n",
              "      border-radius: 50%;\n",
              "      cursor: pointer;\n",
              "      display: none;\n",
              "      fill: #1967D2;\n",
              "      height: 32px;\n",
              "      padding: 0 0 0 0;\n",
              "      width: 32px;\n",
              "    }\n",
              "\n",
              "    .colab-df-convert:hover {\n",
              "      background-color: #E2EBFA;\n",
              "      box-shadow: 0px 1px 2px rgba(60, 64, 67, 0.3), 0px 1px 3px 1px rgba(60, 64, 67, 0.15);\n",
              "      fill: #174EA6;\n",
              "    }\n",
              "\n",
              "    .colab-df-buttons div {\n",
              "      margin-bottom: 4px;\n",
              "    }\n",
              "\n",
              "    [theme=dark] .colab-df-convert {\n",
              "      background-color: #3B4455;\n",
              "      fill: #D2E3FC;\n",
              "    }\n",
              "\n",
              "    [theme=dark] .colab-df-convert:hover {\n",
              "      background-color: #434B5C;\n",
              "      box-shadow: 0px 1px 3px 1px rgba(0, 0, 0, 0.15);\n",
              "      filter: drop-shadow(0px 1px 2px rgba(0, 0, 0, 0.3));\n",
              "      fill: #FFFFFF;\n",
              "    }\n",
              "  </style>\n",
              "\n",
              "    <script>\n",
              "      const buttonEl =\n",
              "        document.querySelector('#df-a32deb1f-8b07-4d76-a20a-d39f29b29f1e button.colab-df-convert');\n",
              "      buttonEl.style.display =\n",
              "        google.colab.kernel.accessAllowed ? 'block' : 'none';\n",
              "\n",
              "      async function convertToInteractive(key) {\n",
              "        const element = document.querySelector('#df-a32deb1f-8b07-4d76-a20a-d39f29b29f1e');\n",
              "        const dataTable =\n",
              "          await google.colab.kernel.invokeFunction('convertToInteractive',\n",
              "                                                    [key], {});\n",
              "        if (!dataTable) return;\n",
              "\n",
              "        const docLinkHtml = 'Like what you see? Visit the ' +\n",
              "          '<a target=\"_blank\" href=https://colab.research.google.com/notebooks/data_table.ipynb>data table notebook</a>'\n",
              "          + ' to learn more about interactive tables.';\n",
              "        element.innerHTML = '';\n",
              "        dataTable['output_type'] = 'display_data';\n",
              "        await google.colab.output.renderOutput(dataTable, element);\n",
              "        const docLink = document.createElement('div');\n",
              "        docLink.innerHTML = docLinkHtml;\n",
              "        element.appendChild(docLink);\n",
              "      }\n",
              "    </script>\n",
              "  </div>\n",
              "\n",
              "\n",
              "<div id=\"df-54b942ae-096e-4d41-8d64-2c66c2061714\">\n",
              "  <button class=\"colab-df-quickchart\" onclick=\"quickchart('df-54b942ae-096e-4d41-8d64-2c66c2061714')\"\n",
              "            title=\"Suggest charts\"\n",
              "            style=\"display:none;\">\n",
              "\n",
              "<svg xmlns=\"http://www.w3.org/2000/svg\" height=\"24px\"viewBox=\"0 0 24 24\"\n",
              "     width=\"24px\">\n",
              "    <g>\n",
              "        <path d=\"M19 3H5c-1.1 0-2 .9-2 2v14c0 1.1.9 2 2 2h14c1.1 0 2-.9 2-2V5c0-1.1-.9-2-2-2zM9 17H7v-7h2v7zm4 0h-2V7h2v10zm4 0h-2v-4h2v4z\"/>\n",
              "    </g>\n",
              "</svg>\n",
              "  </button>\n",
              "\n",
              "<style>\n",
              "  .colab-df-quickchart {\n",
              "      --bg-color: #E8F0FE;\n",
              "      --fill-color: #1967D2;\n",
              "      --hover-bg-color: #E2EBFA;\n",
              "      --hover-fill-color: #174EA6;\n",
              "      --disabled-fill-color: #AAA;\n",
              "      --disabled-bg-color: #DDD;\n",
              "  }\n",
              "\n",
              "  [theme=dark] .colab-df-quickchart {\n",
              "      --bg-color: #3B4455;\n",
              "      --fill-color: #D2E3FC;\n",
              "      --hover-bg-color: #434B5C;\n",
              "      --hover-fill-color: #FFFFFF;\n",
              "      --disabled-bg-color: #3B4455;\n",
              "      --disabled-fill-color: #666;\n",
              "  }\n",
              "\n",
              "  .colab-df-quickchart {\n",
              "    background-color: var(--bg-color);\n",
              "    border: none;\n",
              "    border-radius: 50%;\n",
              "    cursor: pointer;\n",
              "    display: none;\n",
              "    fill: var(--fill-color);\n",
              "    height: 32px;\n",
              "    padding: 0;\n",
              "    width: 32px;\n",
              "  }\n",
              "\n",
              "  .colab-df-quickchart:hover {\n",
              "    background-color: var(--hover-bg-color);\n",
              "    box-shadow: 0 1px 2px rgba(60, 64, 67, 0.3), 0 1px 3px 1px rgba(60, 64, 67, 0.15);\n",
              "    fill: var(--button-hover-fill-color);\n",
              "  }\n",
              "\n",
              "  .colab-df-quickchart-complete:disabled,\n",
              "  .colab-df-quickchart-complete:disabled:hover {\n",
              "    background-color: var(--disabled-bg-color);\n",
              "    fill: var(--disabled-fill-color);\n",
              "    box-shadow: none;\n",
              "  }\n",
              "\n",
              "  .colab-df-spinner {\n",
              "    border: 2px solid var(--fill-color);\n",
              "    border-color: transparent;\n",
              "    border-bottom-color: var(--fill-color);\n",
              "    animation:\n",
              "      spin 1s steps(1) infinite;\n",
              "  }\n",
              "\n",
              "  @keyframes spin {\n",
              "    0% {\n",
              "      border-color: transparent;\n",
              "      border-bottom-color: var(--fill-color);\n",
              "      border-left-color: var(--fill-color);\n",
              "    }\n",
              "    20% {\n",
              "      border-color: transparent;\n",
              "      border-left-color: var(--fill-color);\n",
              "      border-top-color: var(--fill-color);\n",
              "    }\n",
              "    30% {\n",
              "      border-color: transparent;\n",
              "      border-left-color: var(--fill-color);\n",
              "      border-top-color: var(--fill-color);\n",
              "      border-right-color: var(--fill-color);\n",
              "    }\n",
              "    40% {\n",
              "      border-color: transparent;\n",
              "      border-right-color: var(--fill-color);\n",
              "      border-top-color: var(--fill-color);\n",
              "    }\n",
              "    60% {\n",
              "      border-color: transparent;\n",
              "      border-right-color: var(--fill-color);\n",
              "    }\n",
              "    80% {\n",
              "      border-color: transparent;\n",
              "      border-right-color: var(--fill-color);\n",
              "      border-bottom-color: var(--fill-color);\n",
              "    }\n",
              "    90% {\n",
              "      border-color: transparent;\n",
              "      border-bottom-color: var(--fill-color);\n",
              "    }\n",
              "  }\n",
              "</style>\n",
              "\n",
              "  <script>\n",
              "    async function quickchart(key) {\n",
              "      const quickchartButtonEl =\n",
              "        document.querySelector('#' + key + ' button');\n",
              "      quickchartButtonEl.disabled = true;  // To prevent multiple clicks.\n",
              "      quickchartButtonEl.classList.add('colab-df-spinner');\n",
              "      try {\n",
              "        const charts = await google.colab.kernel.invokeFunction(\n",
              "            'suggestCharts', [key], {});\n",
              "      } catch (error) {\n",
              "        console.error('Error during call to suggestCharts:', error);\n",
              "      }\n",
              "      quickchartButtonEl.classList.remove('colab-df-spinner');\n",
              "      quickchartButtonEl.classList.add('colab-df-quickchart-complete');\n",
              "    }\n",
              "    (() => {\n",
              "      let quickchartButtonEl =\n",
              "        document.querySelector('#df-54b942ae-096e-4d41-8d64-2c66c2061714 button');\n",
              "      quickchartButtonEl.style.display =\n",
              "        google.colab.kernel.accessAllowed ? 'block' : 'none';\n",
              "    })();\n",
              "  </script>\n",
              "</div>\n",
              "\n",
              "    </div>\n",
              "  </div>\n"
            ],
            "application/vnd.google.colaboratory.intrinsic+json": {
              "type": "dataframe",
              "summary": "{\n  \"name\": \"sales_df\",\n  \"rows\": 8,\n  \"fields\": [\n    {\n      \"column\": \"order_item_id\",\n      \"properties\": {\n        \"dtype\": \"number\",\n        \"std\": 39826.43126188818,\n        \"min\": 0.7051240313951733,\n        \"max\": 112650.0,\n        \"num_unique_values\": 5,\n        \"samples\": [\n          1.1978339991122948,\n          21.0,\n          0.7051240313951733\n        ],\n        \"semantic_type\": \"\",\n        \"description\": \"\"\n      }\n    },\n    {\n      \"column\": \"price\",\n      \"properties\": {\n        \"dtype\": \"number\",\n        \"std\": 39528.033699224645,\n        \"min\": 0.85,\n        \"max\": 112650.0,\n        \"num_unique_values\": 8,\n        \"samples\": [\n          120.65373901464716,\n          74.99,\n          112650.0\n        ],\n        \"semantic_type\": \"\",\n        \"description\": \"\"\n      }\n    }\n  ]\n}"
            }
          },
          "metadata": {},
          "execution_count": 11
        }
      ]
    },
    {
      "cell_type": "markdown",
      "source": [
        "**Insight:**\n",
        "\n",
        "*   Mendapatkan informasi mengenai jumlah data dan tipe data dari masing-masing kolom\n",
        "*   Data memiliki missing value yang terdapat pada kolom product_category_name dan product_category_name_english\n",
        "*   Data tidak memiliki data yang terduplikasi\n",
        "*   Tidak ada yang aneh dari ringkasan parameter statistik"
      ],
      "metadata": {
        "id": "Qs1qKy9mxIw1"
      }
    },
    {
      "cell_type": "code",
      "source": [
        "customer_df.info()"
      ],
      "metadata": {
        "colab": {
          "base_uri": "https://localhost:8080/"
        },
        "id": "VwflU6SzwtjE",
        "outputId": "0658f58e-cd17-4fae-86e1-77e3d334256c"
      },
      "execution_count": 31,
      "outputs": [
        {
          "output_type": "stream",
          "name": "stdout",
          "text": [
            "<class 'pandas.core.frame.DataFrame'>\n",
            "RangeIndex: 99441 entries, 0 to 99440\n",
            "Data columns (total 5 columns):\n",
            " #   Column                    Non-Null Count  Dtype \n",
            "---  ------                    --------------  ----- \n",
            " 0   customer_id               99441 non-null  object\n",
            " 1   customer_unique_id        99441 non-null  object\n",
            " 2   customer_zip_code_prefix  99441 non-null  int64 \n",
            " 3   customer_city             99441 non-null  object\n",
            " 4   customer_state            99441 non-null  object\n",
            "dtypes: int64(1), object(4)\n",
            "memory usage: 3.8+ MB\n"
          ]
        }
      ]
    },
    {
      "cell_type": "code",
      "source": [
        "customer_df.isna().sum()"
      ],
      "metadata": {
        "colab": {
          "base_uri": "https://localhost:8080/",
          "height": 241
        },
        "id": "pxa0ANGPwxBT",
        "outputId": "751b6dc4-ffe8-428f-da94-b281b6ac5240"
      },
      "execution_count": 32,
      "outputs": [
        {
          "output_type": "execute_result",
          "data": {
            "text/plain": [
              "customer_id                 0\n",
              "customer_unique_id          0\n",
              "customer_zip_code_prefix    0\n",
              "customer_city               0\n",
              "customer_state              0\n",
              "dtype: int64"
            ],
            "text/html": [
              "<div>\n",
              "<style scoped>\n",
              "    .dataframe tbody tr th:only-of-type {\n",
              "        vertical-align: middle;\n",
              "    }\n",
              "\n",
              "    .dataframe tbody tr th {\n",
              "        vertical-align: top;\n",
              "    }\n",
              "\n",
              "    .dataframe thead th {\n",
              "        text-align: right;\n",
              "    }\n",
              "</style>\n",
              "<table border=\"1\" class=\"dataframe\">\n",
              "  <thead>\n",
              "    <tr style=\"text-align: right;\">\n",
              "      <th></th>\n",
              "      <th>0</th>\n",
              "    </tr>\n",
              "  </thead>\n",
              "  <tbody>\n",
              "    <tr>\n",
              "      <th>customer_id</th>\n",
              "      <td>0</td>\n",
              "    </tr>\n",
              "    <tr>\n",
              "      <th>customer_unique_id</th>\n",
              "      <td>0</td>\n",
              "    </tr>\n",
              "    <tr>\n",
              "      <th>customer_zip_code_prefix</th>\n",
              "      <td>0</td>\n",
              "    </tr>\n",
              "    <tr>\n",
              "      <th>customer_city</th>\n",
              "      <td>0</td>\n",
              "    </tr>\n",
              "    <tr>\n",
              "      <th>customer_state</th>\n",
              "      <td>0</td>\n",
              "    </tr>\n",
              "  </tbody>\n",
              "</table>\n",
              "</div><br><label><b>dtype:</b> int64</label>"
            ]
          },
          "metadata": {},
          "execution_count": 32
        }
      ]
    },
    {
      "cell_type": "code",
      "source": [
        "customer_df.duplicated().sum()"
      ],
      "metadata": {
        "colab": {
          "base_uri": "https://localhost:8080/"
        },
        "id": "9fmSU0rBw3dR",
        "outputId": "d0458c0c-2b5d-4803-a4ea-7cbca27718bc"
      },
      "execution_count": 33,
      "outputs": [
        {
          "output_type": "execute_result",
          "data": {
            "text/plain": [
              "0"
            ]
          },
          "metadata": {},
          "execution_count": 33
        }
      ]
    },
    {
      "cell_type": "markdown",
      "source": [
        "**Insight:**\n",
        "\n",
        "*   Mendapatkan informasi mengenai jumlah data dan tipe data dari masing-masing kolom\n",
        "*   Data memiliki tidak missing value\n",
        "*   Data tidak memiliki data yang terduplikasi\n",
        "\n"
      ],
      "metadata": {
        "id": "Q_OHum_seCky"
      }
    },
    {
      "cell_type": "markdown",
      "source": [
        "### Cleaning Data"
      ],
      "metadata": {
        "id": "Cui_-qPDfJvT"
      }
    },
    {
      "cell_type": "code",
      "source": [
        "sales_df.dropna(axis=0, inplace=True)"
      ],
      "metadata": {
        "id": "Mk4fEyzvd9qD"
      },
      "execution_count": 12,
      "outputs": []
    },
    {
      "cell_type": "markdown",
      "source": [
        "**Insight:**\n",
        "\n",
        "*   Data sales_df sudah bersih dari missing value yang ditemukan\n",
        "*   Data customer_df tidak perlu dibersihkan kembali karena tidak memiliki missing value, invalid value, duplicate value, maupun hal lainnya\n",
        "\n",
        "\n",
        "\n"
      ],
      "metadata": {
        "id": "ebkEXsHTf0Si"
      }
    },
    {
      "cell_type": "markdown",
      "source": [
        "## Exploratory Data Analysis (EDA)"
      ],
      "metadata": {
        "id": "TEtNjYAMf-FA"
      }
    },
    {
      "cell_type": "markdown",
      "source": [
        "### Mengeksplorasi Penjualan Berdasarkan Jumlahnya"
      ],
      "metadata": {
        "id": "9Jjkrv1rhExm"
      }
    },
    {
      "cell_type": "code",
      "source": [
        "total_order = sales_df.groupby(by='product_category_name_english').order_id.nunique().sort_values(ascending=False)"
      ],
      "metadata": {
        "id": "6y9U0cS3gN48"
      },
      "execution_count": 14,
      "outputs": []
    },
    {
      "cell_type": "code",
      "source": [
        "total_order_df = total_order.reset_index()\n",
        "total_order_df.columns = ['product_category_name_english', 'order_count']"
      ],
      "metadata": {
        "id": "V4TRJd7tgiIQ"
      },
      "execution_count": 15,
      "outputs": []
    },
    {
      "cell_type": "code",
      "source": [
        "total_order_df.to_csv(\"order_count_by_category.csv\", index=False)"
      ],
      "metadata": {
        "id": "BXGD1w0Ego4w"
      },
      "execution_count": 16,
      "outputs": []
    },
    {
      "cell_type": "code",
      "source": [
        "print(total_order_df)"
      ],
      "metadata": {
        "colab": {
          "base_uri": "https://localhost:8080/"
        },
        "id": "NHAmPANrzBpE",
        "outputId": "be27f9d4-1905-4c43-9fd7-d757512fd357"
      },
      "execution_count": 36,
      "outputs": [
        {
          "output_type": "stream",
          "name": "stdout",
          "text": [
            "   product_category_name_english  order_count\n",
            "0                 bed_bath_table         9417\n",
            "1                  health_beauty         8836\n",
            "2                 sports_leisure         7720\n",
            "3          computers_accessories         6689\n",
            "4                furniture_decor         6449\n",
            "..                           ...          ...\n",
            "66         arts_and_craftmanship           23\n",
            "67                    la_cuisine           13\n",
            "68             cds_dvds_musicals           12\n",
            "69     fashion_childrens_clothes            8\n",
            "70         security_and_services            2\n",
            "\n",
            "[71 rows x 2 columns]\n"
          ]
        }
      ]
    },
    {
      "cell_type": "markdown",
      "source": [
        "**Insight:**\n",
        "\n",
        "*   Mendapatkan tabel yang berisi seberapa sering suatu produk dibeli oleh customer\n",
        "\n"
      ],
      "metadata": {
        "id": "VvKV4mSMxzvO"
      }
    },
    {
      "cell_type": "markdown",
      "source": [
        "### Mengeksplorasi Penjualan Berdasarkan Pendapatannya"
      ],
      "metadata": {
        "id": "cp67CVeChN3c"
      }
    },
    {
      "cell_type": "code",
      "source": [
        "total_revenue = sales_df.groupby(by='product_category_name_english')['price'].sum().sort_values(ascending=False)"
      ],
      "metadata": {
        "id": "pRSZgufGhUAq"
      },
      "execution_count": 17,
      "outputs": []
    },
    {
      "cell_type": "code",
      "source": [
        "total_revenue_df = total_revenue.reset_index()\n",
        "total_revenue_df.columns = ['product_category_name_english', 'total_revenue']"
      ],
      "metadata": {
        "id": "9_Rr-B6lhmVt"
      },
      "execution_count": 18,
      "outputs": []
    },
    {
      "cell_type": "code",
      "source": [
        "total_revenue_df.to_csv(\"total_revenue_by_category.csv\", index=False)"
      ],
      "metadata": {
        "id": "xwD2e9fjhzQ1"
      },
      "execution_count": 19,
      "outputs": []
    },
    {
      "cell_type": "code",
      "source": [
        "print(total_revenue_df)"
      ],
      "metadata": {
        "colab": {
          "base_uri": "https://localhost:8080/"
        },
        "id": "Xb6Uy6Asy9g7",
        "outputId": "f43f8fdf-69cc-41c3-a40b-1377ba2ce0de"
      },
      "execution_count": 35,
      "outputs": [
        {
          "output_type": "stream",
          "name": "stdout",
          "text": [
            "   product_category_name_english  total_revenue\n",
            "0                  health_beauty     1258681.34\n",
            "1                  watches_gifts     1205005.68\n",
            "2                 bed_bath_table     1036988.68\n",
            "3                 sports_leisure      988048.97\n",
            "4          computers_accessories      911954.32\n",
            "..                           ...            ...\n",
            "66                       flowers        1110.04\n",
            "67                home_comfort_2         760.27\n",
            "68             cds_dvds_musicals         730.00\n",
            "69     fashion_childrens_clothes         569.85\n",
            "70         security_and_services         283.29\n",
            "\n",
            "[71 rows x 2 columns]\n"
          ]
        }
      ]
    },
    {
      "cell_type": "markdown",
      "source": [
        "**Insight:**\n",
        "\n",
        "*   Mendapatkan tabel yang berisi total pendapatan berdasarkan produk yang terjual\n",
        "\n"
      ],
      "metadata": {
        "id": "OkT9YxQGiMB0"
      }
    },
    {
      "cell_type": "code",
      "source": [
        "customer_city = customer_df.groupby(by='customer_city').customer_unique_id.nunique().sort_values(ascending=False)"
      ],
      "metadata": {
        "id": "YAQO8BQ4yQ_z"
      },
      "execution_count": 37,
      "outputs": []
    },
    {
      "cell_type": "code",
      "source": [
        "customer_city_df = customer_city.reset_index()\n",
        "customer_city_df.columns = ['customer_city', 'city_count']"
      ],
      "metadata": {
        "id": "RbY5q_Ghyhvp"
      },
      "execution_count": 38,
      "outputs": []
    },
    {
      "cell_type": "code",
      "source": [
        "customer_city_df.to_csv('customer_count_by_city.csv', index=False)"
      ],
      "metadata": {
        "id": "clbKXOrezdjU"
      },
      "execution_count": 39,
      "outputs": []
    },
    {
      "cell_type": "code",
      "source": [
        "print(customer_city_df)"
      ],
      "metadata": {
        "colab": {
          "base_uri": "https://localhost:8080/"
        },
        "id": "rDs9f3S5zwVX",
        "outputId": "d389c309-2b46-4c88-8084-f28d14cf18fb"
      },
      "execution_count": 40,
      "outputs": [
        {
          "output_type": "stream",
          "name": "stdout",
          "text": [
            "       customer_city  city_count\n",
            "0          sao paulo       14984\n",
            "1     rio de janeiro        6620\n",
            "2     belo horizonte        2672\n",
            "3           brasilia        2069\n",
            "4           curitiba        1465\n",
            "...              ...         ...\n",
            "4114       ibertioga           1\n",
            "4115        ibiajara           1\n",
            "4116          ibiara           1\n",
            "4117     ibicuitinga           1\n",
            "4118          lagoao           1\n",
            "\n",
            "[4119 rows x 2 columns]\n"
          ]
        }
      ]
    },
    {
      "cell_type": "markdown",
      "source": [
        "**Insight:**\n",
        "\n",
        "*   Mendapatkan tabel yang berisi nama kota dengan jumlah customer dari yang terbanyak hingga yang paling sedikit"
      ],
      "metadata": {
        "id": "WZF8UvThzmBV"
      }
    },
    {
      "cell_type": "markdown",
      "source": [
        "*(tabel yang disimpan akan digunakan untuk keperluan pembuatan dashboard)*"
      ],
      "metadata": {
        "id": "VmOug3SB43Cf"
      }
    },
    {
      "cell_type": "markdown",
      "source": [
        "## Visualization & Explanatory Analysis"
      ],
      "metadata": {
        "id": "A0FV0euZibxD"
      }
    },
    {
      "cell_type": "markdown",
      "source": [
        "### Pertanyaan 1: Apa produk yang paling sering dan jarang dibeli?"
      ],
      "metadata": {
        "id": "wJq-10KuuwPz"
      }
    },
    {
      "cell_type": "code",
      "source": [
        "fig, ax = plt.subplots(nrows=1, ncols=2, figsize=(36, 6))\n",
        "\n",
        "colors = ['#72BCD4', '#D3D3D3', '#D3D3D3', '#D3D3D3', '#D3D3D3']\n",
        "\n",
        "sns.barplot(x='order_count', y='product_category_name_english', data=total_order_df.head(5), palette=colors, ax=ax[0])\n",
        "ax[0].set_ylabel(None)\n",
        "ax[0].set_xlabel('Number of Sales', fontsize=15)\n",
        "ax[0].set_title('Best Performing Product', loc='center', fontsize=20)\n",
        "ax[0].tick_params(axis='y', labelsize=12)\n",
        "\n",
        "sns.barplot(x='order_count', y='product_category_name_english', data=total_order_df.sort_values(by='order_count', ascending=True).head(5), palette=colors, ax=ax[1])\n",
        "ax[1].set_ylabel(None)\n",
        "ax[1].set_xlabel('Number of Sales', fontsize=15)\n",
        "ax[1].set_title('Worst Performing Product', loc='center', fontsize=20)\n",
        "ax[1].tick_params(axis='y', labelsize=12)\n",
        "\n",
        "plt.suptitle('Best and Worst Performing Product', fontsize=25)\n",
        "plt.show()"
      ],
      "metadata": {
        "id": "iHA2IJThih4D",
        "colab": {
          "base_uri": "https://localhost:8080/",
          "height": 468
        },
        "outputId": "c0165998-83b3-431f-d2fc-7338df640a30"
      },
      "execution_count": 28,
      "outputs": [
        {
          "output_type": "stream",
          "name": "stderr",
          "text": [
            "<ipython-input-28-23dc7f8122ae>:5: FutureWarning: \n",
            "\n",
            "Passing `palette` without assigning `hue` is deprecated and will be removed in v0.14.0. Assign the `y` variable to `hue` and set `legend=False` for the same effect.\n",
            "\n",
            "  sns.barplot(x='order_count', y='product_category_name_english', data=total_order_df.head(5), palette=colors, ax=ax[0])\n",
            "<ipython-input-28-23dc7f8122ae>:11: FutureWarning: \n",
            "\n",
            "Passing `palette` without assigning `hue` is deprecated and will be removed in v0.14.0. Assign the `y` variable to `hue` and set `legend=False` for the same effect.\n",
            "\n",
            "  sns.barplot(x='order_count', y='product_category_name_english', data=total_order_df.sort_values(by='order_count', ascending=True).head(5), palette=colors, ax=ax[1])\n"
          ]
        },
        {
          "output_type": "display_data",
          "data": {
            "text/plain": [
              "<Figure size 3600x600 with 2 Axes>"
            ],
            "image/png": "[encoded data removed]"
          },
          "metadata": {}
        }
      ]
    },
    {
      "cell_type": "markdown",
      "source": [
        "### Pertanyaan 2: Apa produk dengan pendapatan tertinggi? Berapa pendapatan yang didapat?"
      ],
      "metadata": {
        "id": "BvZuk6cf1uJC"
      }
    },
    {
      "cell_type": "code",
      "source": [
        "fig, ax = plt.subplots(figsize=(15, 6))\n",
        "\n",
        "colors = ['#72BCD4', '#D3D3D3', '#D3D3D3', '#D3D3D3', '#D3D3D3', '#D3D3D3', '#D3D3D3', '#D3D3D3', '#D3D3D3', '#D3D3D3']\n",
        "\n",
        "sns.barplot(x='total_revenue', y='product_category_name_english', data=total_revenue_df.head(10), palette=colors, ax=ax)\n",
        "ax.set_ylabel(None)\n",
        "ax.set_xlabel('Number of Revenue (million)', fontsize=15)\n",
        "ax.set_title('Highest Revenue Product', loc='center', fontsize=20)\n",
        "ax.tick_params(axis='y', labelsize=12)\n",
        "\n",
        "plt.suptitle('Top 10 Total Revenue', fontsize=25)\n",
        "plt.show()"
      ],
      "metadata": {
        "colab": {
          "base_uri": "https://localhost:8080/",
          "height": 695
        },
        "id": "2z9haKXAutSk",
        "outputId": "f064c7ea-8eb5-4b38-e302-ac45ee87a301"
      },
      "execution_count": 41,
      "outputs": [
        {
          "output_type": "stream",
          "name": "stderr",
          "text": [
            "<ipython-input-41-259ea32fbdbe>:5: FutureWarning: \n",
            "\n",
            "Passing `palette` without assigning `hue` is deprecated and will be removed in v0.14.0. Assign the `y` variable to `hue` and set `legend=False` for the same effect.\n",
            "\n",
            "  sns.barplot(x='total_revenue', y='product_category_name_english', data=total_revenue_df.head(10), palette=colors, ax=ax)\n"
          ]
        },
        {
          "output_type": "display_data",
          "data": {
            "text/plain": [
              "<Figure size 1500x600 with 1 Axes>"
            ],
            "image/png": "[encoded data removed]"
          },
          "metadata": {}
        }
      ]
    },
    {
      "cell_type": "markdown",
      "source": [
        "### Pertanyaan 3: Apa kota yang memiliki jumlah customer terbanyak?"
      ],
      "metadata": {
        "id": "_EXKTPz12D2E"
      }
    },
    {
      "cell_type": "code",
      "source": [
        "fig, ax = plt.subplots(figsize=(15, 6))\n",
        "\n",
        "colors = ['#72BCD4', '#D3D3D3', '#D3D3D3', '#D3D3D3', '#D3D3D3']\n",
        "\n",
        "sns.barplot(x='city_count', y='customer_city', data=customer_city_df.head(5), palette=colors, ax=ax)\n",
        "ax.set_ylabel(None)\n",
        "ax.set_xlabel('Number of Customer', fontsize=15)\n",
        "ax.set_title('City by City', loc='center', fontsize=20)\n",
        "ax.tick_params(axis='y', labelsize=12)\n",
        "\n",
        "plt.suptitle('Top 10 City', fontsize=25)\n",
        "plt.show()"
      ],
      "metadata": {
        "colab": {
          "base_uri": "https://localhost:8080/",
          "height": 695
        },
        "id": "-FWoWjp80t2S",
        "outputId": "d090abb2-6ee7-4e9c-ec3c-f7d696d148f4"
      },
      "execution_count": 43,
      "outputs": [
        {
          "output_type": "stream",
          "name": "stderr",
          "text": [
            "<ipython-input-43-31b17f0073f3>:5: FutureWarning: \n",
            "\n",
            "Passing `palette` without assigning `hue` is deprecated and will be removed in v0.14.0. Assign the `y` variable to `hue` and set `legend=False` for the same effect.\n",
            "\n",
            "  sns.barplot(x='city_count', y='customer_city', data=customer_city_df.head(5), palette=colors, ax=ax)\n"
          ]
        },
        {
          "output_type": "display_data",
          "data": {
            "text/plain": [
              "<Figure size 1500x600 with 1 Axes>"
            ],
            "image/png": "[encoded data removed]"
          },
          "metadata": {}
        }
      ]
    },
    {
      "cell_type": "markdown",
      "source": [
        "**Insight:**\n",
        "\n",
        "*   Visualisasi berupa horizontal bar chart untuk memvisualisasikan produk apa yang sering dan jarang dibeli, produk apa yang memiliki pendapatan yang tinggi, dan kota apa yang memiliki customer terbanyak\n"
      ],
      "metadata": {
        "id": "WMyJ6bHM0X5A"
      }
    },
    {
      "cell_type": "markdown",
      "source": [
        "## Conclusion\n",
        "\n",
        "*   Produk yang paling sering dibeli adalah bed_bath_table\n",
        "*   Produk yang paling jarang dibeli adalah security_and_services\n",
        "*   Produk dengan pendapatan tertinggi adalah health_beauty yang kemudian disusul oleh watches_gifts dan bed_bath_table\n",
        "*   Kota dengan jumlah customer terbanyak adalah Sao Paulo yang kemudian disusul oleh Rio de Janeiro dengan perbedaan yang cukup signifikan\n",
        "\n",
        "\n",
        "\n",
        "\n",
        "\n"
      ],
      "metadata": {
        "id": "GA2KhWq12fKm"
      }
    },
    {
      "cell_type": "markdown",
      "source": [
        "## Recommendation\n",
        "\n",
        "*   Perusahaan dapat meningkatkan produksi pada produk-produk bed_bath_table jika sering mengalami kehabisan stok\n",
        "*   Perusahaan dapat mengurangi produksi pada produk-produk security_and_services, produk yang jarang dibeli ini akan menumpuk di gudang nantinya jika terus diproduksi namun tidak kunjung terjual\n",
        "*   Perusahaan dapat melakukan pemasaran terhadap produk-produk dengan pendapatan yang tinggi untuk meningkatkan penjualan perusahaan\n",
        "*   Perusahaan dapat melakukan pemasaran tersebut di kota-kota dengan customer yang banyak agar pemasaran dapat menjangkau audiens yang tepat\n",
        "\n",
        "\n",
        "\n"
      ],
      "metadata": {
        "id": "0IekpOkB3iiT"
      }
    }
  ]
}